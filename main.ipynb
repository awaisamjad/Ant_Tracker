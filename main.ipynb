{
 "cells": [
  {
   "cell_type": "code",
   "execution_count": 1,
   "metadata": {},
   "outputs": [],
   "source": [
    "import pandas as pd\n",
    "import matplotlib.pyplot as plt"
   ]
  },
  {
   "cell_type": "code",
   "execution_count": 6,
   "metadata": {},
   "outputs": [],
   "source": [
    "df = pd.read_csv(\"raw_tracking_dataset.csv\")"
   ]
  },
  {
   "cell_type": "code",
   "execution_count": 8,
   "metadata": {},
   "outputs": [
    {
     "data": {
      "text/html": [
       "<div>\n",
       "<style scoped>\n",
       "    .dataframe tbody tr th:only-of-type {\n",
       "        vertical-align: middle;\n",
       "    }\n",
       "\n",
       "    .dataframe tbody tr th {\n",
       "        vertical-align: top;\n",
       "    }\n",
       "\n",
       "    .dataframe thead th {\n",
       "        text-align: right;\n",
       "    }\n",
       "</style>\n",
       "<table border=\"1\" class=\"dataframe\">\n",
       "  <thead>\n",
       "    <tr style=\"text-align: right;\">\n",
       "      <th></th>\n",
       "      <th>ant</th>\n",
       "      <th>frame</th>\n",
       "      <th>video</th>\n",
       "      <th>colony</th>\n",
       "      <th>date</th>\n",
       "      <th>t</th>\n",
       "      <th>x</th>\n",
       "      <th>y</th>\n",
       "    </tr>\n",
       "  </thead>\n",
       "  <tbody>\n",
       "    <tr>\n",
       "      <th>0</th>\n",
       "      <td>2</td>\n",
       "      <td>15405</td>\n",
       "      <td>1</td>\n",
       "      <td>1</td>\n",
       "      <td>1/11/17</td>\n",
       "      <td>20:12:17</td>\n",
       "      <td>1812</td>\n",
       "      <td>360</td>\n",
       "    </tr>\n",
       "    <tr>\n",
       "      <th>1</th>\n",
       "      <td>2</td>\n",
       "      <td>15406</td>\n",
       "      <td>1</td>\n",
       "      <td>1</td>\n",
       "      <td>1/11/17</td>\n",
       "      <td>20:12:17</td>\n",
       "      <td>1808</td>\n",
       "      <td>368</td>\n",
       "    </tr>\n",
       "    <tr>\n",
       "      <th>2</th>\n",
       "      <td>2</td>\n",
       "      <td>15407</td>\n",
       "      <td>1</td>\n",
       "      <td>1</td>\n",
       "      <td>1/11/17</td>\n",
       "      <td>20:12:17</td>\n",
       "      <td>1804</td>\n",
       "      <td>368</td>\n",
       "    </tr>\n",
       "    <tr>\n",
       "      <th>3</th>\n",
       "      <td>2</td>\n",
       "      <td>15408</td>\n",
       "      <td>1</td>\n",
       "      <td>1</td>\n",
       "      <td>1/11/17</td>\n",
       "      <td>20:12:17</td>\n",
       "      <td>1804</td>\n",
       "      <td>368</td>\n",
       "    </tr>\n",
       "    <tr>\n",
       "      <th>4</th>\n",
       "      <td>2</td>\n",
       "      <td>15409</td>\n",
       "      <td>1</td>\n",
       "      <td>1</td>\n",
       "      <td>1/11/17</td>\n",
       "      <td>20:12:17</td>\n",
       "      <td>1800</td>\n",
       "      <td>372</td>\n",
       "    </tr>\n",
       "  </tbody>\n",
       "</table>\n",
       "</div>"
      ],
      "text/plain": [
       "   ant  frame  video  colony     date         t     x    y\n",
       "0    2  15405      1       1  1/11/17  20:12:17  1812  360\n",
       "1    2  15406      1       1  1/11/17  20:12:17  1808  368\n",
       "2    2  15407      1       1  1/11/17  20:12:17  1804  368\n",
       "3    2  15408      1       1  1/11/17  20:12:17  1804  368\n",
       "4    2  15409      1       1  1/11/17  20:12:17  1800  372"
      ]
     },
     "execution_count": 8,
     "metadata": {},
     "output_type": "execute_result"
    }
   ],
   "source": [
    "df.head()"
   ]
  },
  {
   "cell_type": "code",
   "execution_count": 75,
   "metadata": {},
   "outputs": [
    {
     "name": "stdout",
     "output_type": "stream",
     "text": [
      "colony unique: [1 6]\n",
      "ant unique: [   2    3    4 ... 1178 1179  646]\n",
      "frame unique: [15405 15406 15407 ... 46862 46863 46864]\n",
      "video unique: [ 1  2  3  4  5  6  7  8  9 10 11]\n",
      "date unique: ['1/11/17' '1/12/17' '1/13/17' '1/14/17' '1/15/17']\n"
     ]
    }
   ],
   "source": [
    "print(f\"colony unique: {df.colony.unique()}\")\n",
    "print(f\"ant unique: {df.ant.unique()}\")\n",
    "print(f\"frame unique: {df.frame.unique()}\")\n",
    "print(f\"video unique: {df.video.unique()}\")\n",
    "print(f\"date unique: {df.date.unique()}\")"
   ]
  },
  {
   "cell_type": "code",
   "execution_count": 13,
   "metadata": {},
   "outputs": [
    {
     "name": "stdout",
     "output_type": "stream",
     "text": [
      "[   2    3    4 ... 1178 1179  646]\n"
     ]
    }
   ],
   "source": [
    "print(df.ant.unique())"
   ]
  },
  {
   "attachments": {},
   "cell_type": "markdown",
   "metadata": {},
   "source": [
    "- seperated by colony then, some days have the first colony and some the sixth\n",
    "- then seperated by video\n",
    "- then it seperates each ant in the video by unique number\n",
    "- "
   ]
  },
  {
   "attachments": {},
   "cell_type": "markdown",
   "metadata": {},
   "source": [
    "### if the length of colony 1 data and 6 data equal to total data. shows they should be the first seperator"
   ]
  },
  {
   "cell_type": "code",
   "execution_count": 19,
   "metadata": {},
   "outputs": [
    {
     "data": {
      "text/plain": [
       "True"
      ]
     },
     "execution_count": 19,
     "metadata": {},
     "output_type": "execute_result"
    }
   ],
   "source": [
    "len(df[df[\"colony\"] == 1]) + len(df[df[\"colony\"] == 6]) == len(df)"
   ]
  },
  {
   "cell_type": "code",
   "execution_count": 20,
   "metadata": {},
   "outputs": [],
   "source": [
    "colony_6_data = df[df[\"colony\"] == 6]\n",
    "colony_1_data = df[df[\"colony\"] == 1]"
   ]
  },
  {
   "cell_type": "code",
   "execution_count": 77,
   "metadata": {},
   "outputs": [
    {
     "name": "stdout",
     "output_type": "stream",
     "text": [
      "Total number of ants measured in colony 6: 45716\n",
      "Total number of ants measured in colony 1: 1002859\n"
     ]
    }
   ],
   "source": [
    "print(f\"Total number of ants measured in colony 6: {len(colony_6_data.ant)}\")\n",
    "print(f\"Total number of ants measured in colony 1: {len(colony_1_data.ant)}\")"
   ]
  },
  {
   "cell_type": "code",
   "execution_count": 76,
   "metadata": {},
   "outputs": [
    {
     "name": "stdout",
     "output_type": "stream",
     "text": [
      "Total number of unique ants measured in colony 6: 259\n",
      "Total number of unique ants measured in colony 1: 1192\n"
     ]
    }
   ],
   "source": [
    "print(f\"Total number of unique ants measured in colony 6: {len(colony_6_data.ant.unique())}\")\n",
    "print(f\"Total number of unique ants measured in colony 1: {len(colony_1_data.ant.unique())}\")"
   ]
  },
  {
   "attachments": {},
   "cell_type": "markdown",
   "metadata": {},
   "source": [
    "### second seperator is video"
   ]
  },
  {
   "cell_type": "code",
   "execution_count": 78,
   "metadata": {},
   "outputs": [
    {
     "name": "stdout",
     "output_type": "stream",
     "text": [
      "Total number of ants in video 1 in colony 1: 54889\n",
      "Total number of ants in video 2 in colony 1: 146480\n",
      "Total number of ants in video 3 in colony 1: 141320\n",
      "Total number of ants in video 4 in colony 1: 113502\n",
      "Total number of ants in video 5 in colony 1: 176558\n",
      "Total number of ants in video 6 in colony 1: 100329\n",
      "Total number of ants in video 7 in colony 1: 79845\n"
     ]
    }
   ],
   "source": [
    "print(f\"Total number of ants in video 1 in colony 1: {len(colony_1_data[colony_1_data.video == 1].ant)}\")\n",
    "print(f\"Total number of ants in video 2 in colony 1: {len(colony_1_data[colony_1_data.video == 2].ant)}\")\n",
    "print(f\"Total number of ants in video 3 in colony 1: {len(colony_1_data[colony_1_data.video == 3].ant)}\")\n",
    "print(f\"Total number of ants in video 4 in colony 1: {len(colony_1_data[colony_1_data.video == 4].ant)}\")\n",
    "print(f\"Total number of ants in video 5 in colony 1: {len(colony_1_data[colony_1_data.video == 5].ant)}\")\n",
    "print(f\"Total number of ants in video 6 in colony 1: {len(colony_1_data[colony_1_data.video == 6].ant)}\")\n",
    "print(f\"Total number of ants in video 7 in colony 1: {len(colony_1_data[colony_1_data.video == 7].ant)}\")"
   ]
  },
  {
   "cell_type": "code",
   "execution_count": 79,
   "metadata": {},
   "outputs": [
    {
     "name": "stdout",
     "output_type": "stream",
     "text": [
      "Total number of unique ants in video 1 in colony 1: 465\n",
      "Total number of unique ants in video 2 in colony 1: 802\n",
      "Total number of unique ants in video 3 in colony 1: 562\n",
      "Total number of unique ants in video 4 in colony 1: 891\n",
      "Total number of unique ants in video 5 in colony 1: 977\n",
      "Total number of unique ants in video 6 in colony 1: 796\n",
      "Total number of unique ants in video 7 in colony 1: 661\n"
     ]
    }
   ],
   "source": [
    "print(f\"Total number of unique ants in video 1 in colony 1: {len(colony_1_data[colony_1_data.video == 1].ant.unique())}\")\n",
    "print(f\"Total number of unique ants in video 2 in colony 1: {len(colony_1_data[colony_1_data.video == 2].ant.unique())}\")\n",
    "print(f\"Total number of unique ants in video 3 in colony 1: {len(colony_1_data[colony_1_data.video == 3].ant.unique())}\")\n",
    "print(f\"Total number of unique ants in video 4 in colony 1: {len(colony_1_data[colony_1_data.video == 4].ant.unique())}\")\n",
    "print(f\"Total number of unique ants in video 5 in colony 1: {len(colony_1_data[colony_1_data.video == 5].ant.unique())}\")\n",
    "print(f\"Total number of unique ants in video 6 in colony 1: {len(colony_1_data[colony_1_data.video == 6].ant.unique())}\")\n",
    "print(f\"Total number of unique ants in video 7 in colony 1: {len(colony_1_data[colony_1_data.video == 7].ant.unique())}\")"
   ]
  },
  {
   "attachments": {},
   "cell_type": "markdown",
   "metadata": {},
   "source": [
    "### ants in one vid are also in another"
   ]
  },
  {
   "cell_type": "code",
   "execution_count": 42,
   "metadata": {},
   "outputs": [
    {
     "name": "stdout",
     "output_type": "stream",
     "text": [
      "True\n"
     ]
    }
   ],
   "source": [
    "if set(colony_1_data[colony_1_data[\"video\"] == 1].ant.unique()).intersection(set(colony_1_data[colony_1_data[\"video\"] == 2].ant.unique()), set(colony_1_data[colony_1_data[\"video\"] == 3].ant.unique()), set(colony_1_data[colony_1_data[\"video\"] == 4].ant.unique()), set(colony_1_data[colony_1_data[\"video\"] == 5].ant.unique()), set(colony_1_data[colony_1_data[\"video\"] == 7].ant.unique()), set(colony_1_data[colony_1_data[\"video\"] == 7].ant.unique())):\n",
    "    print(\"True\")"
   ]
  },
  {
   "cell_type": "code",
   "execution_count": 50,
   "metadata": {},
   "outputs": [
    {
     "data": {
      "text/plain": [
       "array([1, 2, 3, 4], dtype=int64)"
      ]
     },
     "execution_count": 50,
     "metadata": {},
     "output_type": "execute_result"
    }
   ],
   "source": [
    "colony_6_data.video.unique()"
   ]
  },
  {
   "attachments": {},
   "cell_type": "markdown",
   "metadata": {},
   "source": [
    "### only 4 videos for colony 6 while 7 for colony 1"
   ]
  },
  {
   "cell_type": "code",
   "execution_count": 80,
   "metadata": {},
   "outputs": [
    {
     "name": "stdout",
     "output_type": "stream",
     "text": [
      "Total number of unique ants in video 1 in colony 6: 4\n",
      "Total number of unique ants in video 2 in colony 6: 174\n",
      "Total number of unique ants in video 3 in colony 6: 105\n",
      "Total number of unique ants in video 4 in colony 6: 34\n"
     ]
    }
   ],
   "source": [
    "print(f\"Total number of unique ants in video 1 in colony 6: {len(colony_6_data[colony_6_data.video == 1].ant.unique())}\")\n",
    "print(f\"Total number of unique ants in video 2 in colony 6: {len(colony_6_data[colony_6_data.video == 2].ant.unique())}\")\n",
    "print(f\"Total number of unique ants in video 3 in colony 6: {len(colony_6_data[colony_6_data.video == 3].ant.unique())}\")\n",
    "print(f\"Total number of unique ants in video 4 in colony 6: {len(colony_6_data[colony_6_data.video == 4].ant.unique())}\")"
   ]
  },
  {
   "cell_type": "code",
   "execution_count": 55,
   "metadata": {},
   "outputs": [
    {
     "data": {
      "text/plain": [
       "array([14, 15, 19, 20], dtype=int64)"
      ]
     },
     "execution_count": 55,
     "metadata": {},
     "output_type": "execute_result"
    }
   ],
   "source": [
    "colony_6_data[colony_6_data[\"video\"] == 1].ant.unique()"
   ]
  },
  {
   "cell_type": "code",
   "execution_count": 56,
   "metadata": {},
   "outputs": [
    {
     "data": {
      "text/html": [
       "<div>\n",
       "<style scoped>\n",
       "    .dataframe tbody tr th:only-of-type {\n",
       "        vertical-align: middle;\n",
       "    }\n",
       "\n",
       "    .dataframe tbody tr th {\n",
       "        vertical-align: top;\n",
       "    }\n",
       "\n",
       "    .dataframe thead th {\n",
       "        text-align: right;\n",
       "    }\n",
       "</style>\n",
       "<table border=\"1\" class=\"dataframe\">\n",
       "  <thead>\n",
       "    <tr style=\"text-align: right;\">\n",
       "      <th></th>\n",
       "      <th>ant</th>\n",
       "      <th>frame</th>\n",
       "      <th>video</th>\n",
       "      <th>colony</th>\n",
       "      <th>date</th>\n",
       "      <th>t</th>\n",
       "      <th>x</th>\n",
       "      <th>y</th>\n",
       "    </tr>\n",
       "  </thead>\n",
       "  <tbody>\n",
       "    <tr>\n",
       "      <th>1002859</th>\n",
       "      <td>14</td>\n",
       "      <td>40330</td>\n",
       "      <td>1</td>\n",
       "      <td>6</td>\n",
       "      <td>1/15/17</td>\n",
       "      <td>19:48:26</td>\n",
       "      <td>288</td>\n",
       "      <td>816</td>\n",
       "    </tr>\n",
       "    <tr>\n",
       "      <th>1002860</th>\n",
       "      <td>14</td>\n",
       "      <td>40331</td>\n",
       "      <td>1</td>\n",
       "      <td>6</td>\n",
       "      <td>1/15/17</td>\n",
       "      <td>19:48:26</td>\n",
       "      <td>292</td>\n",
       "      <td>832</td>\n",
       "    </tr>\n",
       "    <tr>\n",
       "      <th>1002861</th>\n",
       "      <td>14</td>\n",
       "      <td>40332</td>\n",
       "      <td>1</td>\n",
       "      <td>6</td>\n",
       "      <td>1/15/17</td>\n",
       "      <td>19:48:26</td>\n",
       "      <td>320</td>\n",
       "      <td>832</td>\n",
       "    </tr>\n",
       "    <tr>\n",
       "      <th>1002862</th>\n",
       "      <td>14</td>\n",
       "      <td>40333</td>\n",
       "      <td>1</td>\n",
       "      <td>6</td>\n",
       "      <td>1/15/17</td>\n",
       "      <td>19:48:26</td>\n",
       "      <td>344</td>\n",
       "      <td>828</td>\n",
       "    </tr>\n",
       "    <tr>\n",
       "      <th>1002863</th>\n",
       "      <td>14</td>\n",
       "      <td>40334</td>\n",
       "      <td>1</td>\n",
       "      <td>6</td>\n",
       "      <td>1/15/17</td>\n",
       "      <td>19:48:26</td>\n",
       "      <td>356</td>\n",
       "      <td>828</td>\n",
       "    </tr>\n",
       "    <tr>\n",
       "      <th>...</th>\n",
       "      <td>...</td>\n",
       "      <td>...</td>\n",
       "      <td>...</td>\n",
       "      <td>...</td>\n",
       "      <td>...</td>\n",
       "      <td>...</td>\n",
       "      <td>...</td>\n",
       "      <td>...</td>\n",
       "    </tr>\n",
       "    <tr>\n",
       "      <th>1003406</th>\n",
       "      <td>20</td>\n",
       "      <td>46163</td>\n",
       "      <td>1</td>\n",
       "      <td>6</td>\n",
       "      <td>1/15/17</td>\n",
       "      <td>19:51:41</td>\n",
       "      <td>1044</td>\n",
       "      <td>232</td>\n",
       "    </tr>\n",
       "    <tr>\n",
       "      <th>1003407</th>\n",
       "      <td>20</td>\n",
       "      <td>46164</td>\n",
       "      <td>1</td>\n",
       "      <td>6</td>\n",
       "      <td>1/15/17</td>\n",
       "      <td>19:51:41</td>\n",
       "      <td>1044</td>\n",
       "      <td>232</td>\n",
       "    </tr>\n",
       "    <tr>\n",
       "      <th>1003408</th>\n",
       "      <td>20</td>\n",
       "      <td>46165</td>\n",
       "      <td>1</td>\n",
       "      <td>6</td>\n",
       "      <td>1/15/17</td>\n",
       "      <td>19:51:41</td>\n",
       "      <td>1044</td>\n",
       "      <td>236</td>\n",
       "    </tr>\n",
       "    <tr>\n",
       "      <th>1003409</th>\n",
       "      <td>20</td>\n",
       "      <td>46166</td>\n",
       "      <td>1</td>\n",
       "      <td>6</td>\n",
       "      <td>1/15/17</td>\n",
       "      <td>19:51:41</td>\n",
       "      <td>1036</td>\n",
       "      <td>236</td>\n",
       "    </tr>\n",
       "    <tr>\n",
       "      <th>1003410</th>\n",
       "      <td>20</td>\n",
       "      <td>46167</td>\n",
       "      <td>1</td>\n",
       "      <td>6</td>\n",
       "      <td>1/15/17</td>\n",
       "      <td>19:51:41</td>\n",
       "      <td>1028</td>\n",
       "      <td>244</td>\n",
       "    </tr>\n",
       "  </tbody>\n",
       "</table>\n",
       "<p>552 rows × 8 columns</p>\n",
       "</div>"
      ],
      "text/plain": [
       "         ant  frame  video  colony     date         t     x    y\n",
       "1002859   14  40330      1       6  1/15/17  19:48:26   288  816\n",
       "1002860   14  40331      1       6  1/15/17  19:48:26   292  832\n",
       "1002861   14  40332      1       6  1/15/17  19:48:26   320  832\n",
       "1002862   14  40333      1       6  1/15/17  19:48:26   344  828\n",
       "1002863   14  40334      1       6  1/15/17  19:48:26   356  828\n",
       "...      ...    ...    ...     ...      ...       ...   ...  ...\n",
       "1003406   20  46163      1       6  1/15/17  19:51:41  1044  232\n",
       "1003407   20  46164      1       6  1/15/17  19:51:41  1044  232\n",
       "1003408   20  46165      1       6  1/15/17  19:51:41  1044  236\n",
       "1003409   20  46166      1       6  1/15/17  19:51:41  1036  236\n",
       "1003410   20  46167      1       6  1/15/17  19:51:41  1028  244\n",
       "\n",
       "[552 rows x 8 columns]"
      ]
     },
     "execution_count": 56,
     "metadata": {},
     "output_type": "execute_result"
    }
   ],
   "source": [
    "colony_6_data[colony_6_data.video == 1]"
   ]
  },
  {
   "attachments": {},
   "cell_type": "markdown",
   "metadata": {},
   "source": [
    "### datasets will be organised by the colony and the video"
   ]
  },
  {
   "cell_type": "code",
   "execution_count": 57,
   "metadata": {},
   "outputs": [],
   "source": [
    "colony_1_data_vid_1 = colony_1_data[colony_1_data.video == 1]\n",
    "colony_1_data_vid_2 = colony_1_data[colony_1_data.video == 2]\n",
    "colony_1_data_vid_3 = colony_1_data[colony_1_data.video == 3]\n",
    "colony_1_data_vid_4 = colony_1_data[colony_1_data.video == 4]\n",
    "colony_1_data_vid_5 = colony_1_data[colony_1_data.video == 5]\n",
    "colony_1_data_vid_6 = colony_1_data[colony_1_data.video == 6]\n",
    "colony_1_data_vid_7 = colony_1_data[colony_1_data.video == 7]"
   ]
  },
  {
   "cell_type": "code",
   "execution_count": 62,
   "metadata": {},
   "outputs": [
    {
     "name": "stdout",
     "output_type": "stream",
     "text": [
      "rows of data for colony 1 video 1: 54889\n",
      "rows of data for colony 1 video 2: 146480\n",
      "rows of data for colony 1 video 3: 141320\n",
      "rows of data for colony 1 video 4: 113502\n",
      "rows of data for colony 1 video 5: 176558\n",
      "rows of data for colony 1 video 6: 100329\n",
      "rows of data for colony 1 video 7: 79845\n"
     ]
    }
   ],
   "source": [
    "print(f\"rows of data for colony 1 video 1: {len(colony_1_data_vid_1)}\")\n",
    "print(f\"rows of data for colony 1 video 2: {len(colony_1_data_vid_2)}\")\n",
    "print(f\"rows of data for colony 1 video 3: {len(colony_1_data_vid_3)}\")\n",
    "print(f\"rows of data for colony 1 video 4: {len(colony_1_data_vid_4)}\")\n",
    "print(f\"rows of data for colony 1 video 5: {len(colony_1_data_vid_5)}\")\n",
    "print(f\"rows of data for colony 1 video 6: {len(colony_1_data_vid_6)}\")\n",
    "print(f\"rows of data for colony 1 video 7: {len(colony_1_data_vid_7)}\")"
   ]
  },
  {
   "cell_type": "code",
   "execution_count": 64,
   "metadata": {},
   "outputs": [],
   "source": [
    "colony_6_data_vid_1 = colony_6_data[colony_6_data.video == 1]\n",
    "colony_6_data_vid_2 = colony_6_data[colony_6_data.video == 2]\n",
    "colony_6_data_vid_3 = colony_6_data[colony_6_data.video == 3]\n",
    "colony_6_data_vid_4 = colony_6_data[colony_6_data.video == 4]"
   ]
  },
  {
   "cell_type": "code",
   "execution_count": 66,
   "metadata": {},
   "outputs": [
    {
     "name": "stdout",
     "output_type": "stream",
     "text": [
      "rows of data for colony 6 video 1: 552\n",
      "rows of data for colony 6 video 2: 22490\n",
      "rows of data for colony 6 video 3: 15102\n",
      "rows of data for colony 6 video 4: 7572\n"
     ]
    }
   ],
   "source": [
    "print(f\"rows of data for colony 6 video 1: {len(colony_6_data_vid_1)}\")\n",
    "print(f\"rows of data for colony 6 video 2: {len(colony_6_data_vid_2)}\")\n",
    "print(f\"rows of data for colony 6 video 3: {len(colony_6_data_vid_3)}\")\n",
    "print(f\"rows of data for colony 6 video 4: {len(colony_6_data_vid_4)}\")"
   ]
  },
  {
   "attachments": {},
   "cell_type": "markdown",
   "metadata": {},
   "source": [
    "### only 4 unique ants in colony 6 video 1"
   ]
  },
  {
   "cell_type": "code",
   "execution_count": 72,
   "metadata": {},
   "outputs": [
    {
     "data": {
      "text/plain": [
       "array([14, 15, 19, 20], dtype=int64)"
      ]
     },
     "execution_count": 72,
     "metadata": {},
     "output_type": "execute_result"
    }
   ],
   "source": [
    "colony_6_data_vid_1.ant.unique()"
   ]
  },
  {
   "cell_type": "code",
   "execution_count": 84,
   "metadata": {},
   "outputs": [
    {
     "name": "stdout",
     "output_type": "stream",
     "text": [
      "2\n",
      "11\n",
      "12\n",
      "15\n",
      "18\n",
      "22\n",
      "24\n",
      "28\n",
      "30\n",
      "37\n",
      "38\n",
      "41\n",
      "42\n",
      "44\n",
      "46\n",
      "48\n",
      "50\n",
      "51\n",
      "55\n",
      "57\n",
      "58\n",
      "59\n",
      "63\n",
      "64\n",
      "67\n",
      "80\n",
      "84\n",
      "87\n",
      "91\n",
      "92\n",
      "93\n",
      "96\n",
      "98\n",
      "101\n"
     ]
    }
   ],
   "source": [
    "colony_6_data_vid_4.ant.unique()"
   ]
  },
  {
   "attachments": {},
   "cell_type": "markdown",
   "metadata": {},
   "source": [
    "### simple plot for colony 6 video 1 ant 14"
   ]
  },
  {
   "cell_type": "code",
   "execution_count": 74,
   "metadata": {},
   "outputs": [
    {
     "data": {
      "text/plain": [
       "[<matplotlib.lines.Line2D at 0x25a71fddbd0>]"
      ]
     },
     "execution_count": 74,
     "metadata": {},
     "output_type": "execute_result"
    },
    {
     "data": {
      "image/png": "[encoded data removed]",
      "text/plain": [
       "<Figure size 432x288 with 1 Axes>"
      ]
     },
     "metadata": {
      "needs_background": "light"
     },
     "output_type": "display_data"
    }
   ],
   "source": [
    "plt.plot(colony_6_data_vid_1[colony_6_data_vid_1.ant == 14].x, colony_6_data_vid_1[colony_6_data_vid_1.ant == 14].y, color = \"red\")\n",
    "plt.plot(colony_6_data_vid_1[colony_6_data_vid_1.ant == 15].x, colony_6_data_vid_1[colony_6_data_vid_1.ant == 15].y, color = \"blue\")\n",
    "plt.plot(colony_6_data_vid_1[colony_6_data_vid_1.ant == 19].x, colony_6_data_vid_1[colony_6_data_vid_1.ant == 19].y, color = \"green\")\n",
    "plt.plot(colony_6_data_vid_1[colony_6_data_vid_1.ant == 20].x,colony_6_data_vid_1[colony_6_data_vid_1.ant == 20].y, color = \"purple\")"
   ]
  },
  {
   "cell_type": "code",
   "execution_count": 109,
   "metadata": {},
   "outputs": [],
   "source": [
    "import random"
   ]
  },
  {
   "cell_type": "code",
   "execution_count": 115,
   "metadata": {},
   "outputs": [
    {
     "data": {
      "image/png": "[encoded data removed]",
      "text/plain": [
       "<Figure size 432x288 with 1 Axes>"
      ]
     },
     "metadata": {
      "needs_background": "light"
     },
     "output_type": "display_data"
    }
   ],
   "source": [
    "def generatePathGraph(ant_dataset):\n",
    "    unique_ant_dataset = ant_dataset.ant.unique() # get all unique values of ants\n",
    "    colours = ['r', 'g', 'b', 'y']\n",
    "    for i, ant in enumerate(unique_ant_dataset):\n",
    "        colour = colours[i % len(colours)]\n",
    "        plt.plot(ant_dataset[ant_dataset.ant == ant].x, ant_dataset[ant_dataset.ant == ant].y, color =colour, label = f\"Ant: {ant}\")\n",
    "        plt.legend()\n",
    "        \n",
    "    \n",
    "generatePathGraph(colony_6_data_vid_1)"
   ]
  }
 ],
 "metadata": {
  "kernelspec": {
   "display_name": "Python 3",
   "language": "python",
   "name": "python3"
  },
  "language_info": {
   "codemirror_mode": {
    "name": "ipython",
    "version": 3
   },
   "file_extension": ".py",
   "mimetype": "text/x-python",
   "name": "python",
   "nbconvert_exporter": "python",
   "pygments_lexer": "ipython3",
   "version": "3.10.9"
  },
  "orig_nbformat": 4,
  "vscode": {
   "interpreter": {
    "hash": "afb734500600fd355917ca529030176ea0ca205570884b88f2f6f7d791fd3fbe"
   }
  }
 },
 "nbformat": 4,
 "nbformat_minor": 2
}
