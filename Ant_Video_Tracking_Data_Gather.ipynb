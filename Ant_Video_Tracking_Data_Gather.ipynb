{
 "cells": [
  {
   "cell_type": "code",
   "execution_count": 23,
   "metadata": {},
   "outputs": [],
   "source": [
    "import cv2\n",
    "\n",
    "cap = cv2.VideoCapture(\"ants_against_white.mp4\")\n",
    "\n",
    "#object_detector = cv2.createBackgroundSubtractorKNN()\n",
    "object_detector = cv2.createBackgroundSubtractorMOG2()\n",
    "\n",
    "\n",
    "while True:\n",
    "    ret, frame = cap.read()\n",
    "    # gray_frame = cv2.cvtColor(frame, cv2.COLOR_BGR2GRAY)\n",
    "    # inversion = cv2.cvtColor(frame, cv2.COLOR_BGR2RGB)\n",
    "    # sketch = cv2.cvtColor(frame, cv2.COLOR_BGR2GRAY)\n",
    "    # sketch = cv2.medianBlur(sketch,3)\n",
    "    # canny = cv2.Canny(frame,100,200)\n",
    "    # gray = cv2.cvtColor(frame, cv2.COLOR_BGR2GRAY)\n",
    "    mask = object_detector.apply(frame)\n",
    "    countours,_ = cv2.findContours(mask, cv2.RETR_TREE, cv2.CHAIN_APPROX_SIMPLE)\n",
    "    coordinates = []\n",
    "    for cnt in countours:\n",
    "        coordinates.append(cnt)\n",
    "        area = cv2.contourArea(cnt)\n",
    "        if area > 10 and area < 100:\n",
    "            cv2.drawContours(frame, [cnt], -1, (0,255,0), 2)\n",
    "    \n",
    "            \n",
    "    \n",
    "    cv2.imshow(\"Frame\", frame)\n",
    "    #cv2.imshow(\"Mask\", mask)\n",
    "    \n",
    "    key = cv2.waitKey(30)\n",
    "    if key == 27:\n",
    "        break\n",
    "\n",
    "\n",
    "cap.release()\n",
    "cv2.destroyAllWindows()"
   ]
  },
  {
   "cell_type": "code",
   "execution_count": 24,
   "metadata": {},
   "outputs": [
    {
     "data": {
      "text/plain": [
       "[array([[[  0,   0]],\n",
       " \n",
       "        [[  0, 359]],\n",
       " \n",
       "        [[639, 359]],\n",
       " \n",
       "        [[639,   0]]], dtype=int32),\n",
       " array([[[297, 293]],\n",
       " \n",
       "        [[298, 292]],\n",
       " \n",
       "        [[299, 293]],\n",
       " \n",
       "        [[298, 294]]], dtype=int32),\n",
       " array([[[351, 212]],\n",
       " \n",
       "        [[352, 211]],\n",
       " \n",
       "        [[353, 212]],\n",
       " \n",
       "        [[352, 213]]], dtype=int32),\n",
       " array([[[351, 209]],\n",
       " \n",
       "        [[352, 208]],\n",
       " \n",
       "        [[353, 209]],\n",
       " \n",
       "        [[352, 210]]], dtype=int32),\n",
       " array([[[ 40, 197]],\n",
       " \n",
       "        [[ 41, 196]],\n",
       " \n",
       "        [[ 42, 197]],\n",
       " \n",
       "        [[ 41, 198]]], dtype=int32),\n",
       " array([[[ 65, 174]],\n",
       " \n",
       "        [[ 66, 173]],\n",
       " \n",
       "        [[ 67, 174]],\n",
       " \n",
       "        [[ 66, 175]]], dtype=int32),\n",
       " array([[[165, 158]],\n",
       " \n",
       "        [[166, 157]],\n",
       " \n",
       "        [[167, 158]],\n",
       " \n",
       "        [[166, 159]]], dtype=int32),\n",
       " array([[[168, 156]],\n",
       " \n",
       "        [[169, 155]],\n",
       " \n",
       "        [[170, 156]],\n",
       " \n",
       "        [[169, 157]]], dtype=int32),\n",
       " array([[[284, 130]],\n",
       " \n",
       "        [[285, 129]],\n",
       " \n",
       "        [[286, 130]],\n",
       " \n",
       "        [[285, 131]]], dtype=int32),\n",
       " array([[[173, 130]],\n",
       " \n",
       "        [[174, 129]],\n",
       " \n",
       "        [[175, 130]],\n",
       " \n",
       "        [[174, 131]]], dtype=int32),\n",
       " array([[[283, 127]],\n",
       " \n",
       "        [[284, 126]],\n",
       " \n",
       "        [[285, 127]],\n",
       " \n",
       "        [[284, 128]]], dtype=int32)]"
      ]
     },
     "execution_count": 24,
     "metadata": {},
     "output_type": "execute_result"
    }
   ],
   "source": [
    "coordinates"
   ]
  },
  {
   "cell_type": "code",
   "execution_count": 17,
   "metadata": {},
   "outputs": [
    {
     "data": {
      "text/plain": [
       "array([[[  0,   0]],\n",
       "\n",
       "       [[  0, 359]],\n",
       "\n",
       "       [[639, 359]],\n",
       "\n",
       "       [[639,   0]]], dtype=int32)"
      ]
     },
     "execution_count": 17,
     "metadata": {},
     "output_type": "execute_result"
    }
   ],
   "source": [
    "coordinates[0]"
   ]
  },
  {
   "cell_type": "code",
   "execution_count": 7,
   "metadata": {},
   "outputs": [
    {
     "data": {
      "text/plain": [
       "array([[170, 358]], dtype=int32)"
      ]
     },
     "execution_count": 7,
     "metadata": {},
     "output_type": "execute_result"
    }
   ],
   "source": [
    "coordinates[0][0]"
   ]
  },
  {
   "cell_type": "code",
   "execution_count": 8,
   "metadata": {},
   "outputs": [
    {
     "data": {
      "text/plain": [
       "array([[169, 359]], dtype=int32)"
      ]
     },
     "execution_count": 8,
     "metadata": {},
     "output_type": "execute_result"
    }
   ],
   "source": [
    "coordinates[0][1]"
   ]
  },
  {
   "cell_type": "code",
   "execution_count": 25,
   "metadata": {},
   "outputs": [],
   "source": [
    "new_coordinates = []\n",
    "for i in coordinates[0]:\n",
    "    new_coordinates.append(i[0])"
   ]
  },
  {
   "cell_type": "code",
   "execution_count": 11,
   "metadata": {},
   "outputs": [
    {
     "data": {
      "text/plain": [
       "[array([170, 358], dtype=int32),\n",
       " array([169, 359], dtype=int32),\n",
       " array([168, 359], dtype=int32),\n",
       " array([171, 359], dtype=int32),\n",
       " array([171, 358], dtype=int32)]"
      ]
     },
     "execution_count": 11,
     "metadata": {},
     "output_type": "execute_result"
    }
   ],
   "source": [
    "new_coordinates"
   ]
  },
  {
   "cell_type": "code",
   "execution_count": 26,
   "metadata": {},
   "outputs": [],
   "source": [
    "x_values = []\n",
    "y_values = []\n",
    "\n",
    "for point in new_coordinates:\n",
    "    x_values.append(point[0])\n",
    "    y_values.append(point[1])"
   ]
  },
  {
   "cell_type": "code",
   "execution_count": 13,
   "metadata": {},
   "outputs": [],
   "source": [
    "import matplotlib.pyplot as plt"
   ]
  },
  {
   "cell_type": "code",
   "execution_count": 27,
   "metadata": {},
   "outputs": [
    {
     "data": {
      "text/plain": [
       "[<matplotlib.lines.Line2D at 0x1d7f8639d50>]"
      ]
     },
     "execution_count": 27,
     "metadata": {},
     "output_type": "execute_result"
    },
    {
     "data": {
      "image/png": "[encoded data removed]",
      "text/plain": [
       "<Figure size 432x288 with 1 Axes>"
      ]
     },
     "metadata": {
      "needs_background": "light"
     },
     "output_type": "display_data"
    }
   ],
   "source": [
    "plt.plot(x_values, y_values)"
   ]
  }
 ],
 "metadata": {
  "kernelspec": {
   "display_name": "Python 3",
   "language": "python",
   "name": "python3"
  },
  "language_info": {
   "codemirror_mode": {
    "name": "ipython",
    "version": 3
   },
   "file_extension": ".py",
   "mimetype": "text/x-python",
   "name": "python",
   "nbconvert_exporter": "python",
   "pygments_lexer": "ipython3",
   "version": "3.10.9"
  },
  "orig_nbformat": 4,
  "vscode": {
   "interpreter": {
    "hash": "afb734500600fd355917ca529030176ea0ca205570884b88f2f6f7d791fd3fbe"
   }
  }
 },
 "nbformat": 4,
 "nbformat_minor": 2
}
