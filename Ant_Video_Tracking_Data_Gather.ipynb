{
 "cells": [
  {
   "cell_type": "code",
   "execution_count": 1,
   "metadata": {},
   "outputs": [],
   "source": [
    "import cv2\n",
    "\n",
    "cap = cv2.VideoCapture(\"ants_against_white.mp4\")\n",
    "\n",
    "#object_detector = cv2.createBackgroundSubtractorKNN()\n",
    "object_detector = cv2.createBackgroundSubtractorMOG2()\n",
    "\n",
    "\n",
    "while True:\n",
    "    ret, frame = cap.read()\n",
    "    # gray_frame = cv2.cvtColor(frame, cv2.COLOR_BGR2GRAY)\n",
    "    # inversion = cv2.cvtColor(frame, cv2.COLOR_BGR2RGB)\n",
    "    # sketch = cv2.cvtColor(frame, cv2.COLOR_BGR2GRAY)\n",
    "    # sketch = cv2.medianBlur(sketch,3)\n",
    "    # canny = cv2.Canny(frame,100,200)\n",
    "    # gray = cv2.cvtColor(frame, cv2.COLOR_BGR2GRAY)\n",
    "    mask = object_detector.apply(frame)\n",
    "    countours,_ = cv2.findContours(mask, cv2.RETR_TREE, cv2.CHAIN_APPROX_SIMPLE)\n",
    "    coordinates = []\n",
    "    for cnt in countours:\n",
    "        coordinates.append(cnt)\n",
    "        area = cv2.contourArea(cnt)\n",
    "        if area > 10 and area < 100:\n",
    "            cv2.drawContours(frame, [cnt], -1, (0,255,0), 2)\n",
    "    \n",
    "            \n",
    "    \n",
    "    cv2.imshow(\"Frame\", frame)\n",
    "    #cv2.imshow(\"Mask\", mask)\n",
    "    \n",
    "    key = cv2.waitKey(30)\n",
    "    if key == 27:\n",
    "        break\n",
    "\n",
    "\n",
    "cap.release()\n",
    "cv2.destroyAllWindows()"
   ]
  },
  {
   "cell_type": "code",
   "execution_count": 17,
   "metadata": {},
   "outputs": [
    {
     "data": {
      "text/plain": [
       "array([[[194, 288]],\n",
       "\n",
       "       [[194, 291]],\n",
       "\n",
       "       [[196, 293]],\n",
       "\n",
       "       [[194, 295]],\n",
       "\n",
       "       [[194, 296]],\n",
       "\n",
       "       [[195, 297]],\n",
       "\n",
       "       [[196, 296]],\n",
       "\n",
       "       [[199, 296]],\n",
       "\n",
       "       [[199, 295]],\n",
       "\n",
       "       [[201, 293]],\n",
       "\n",
       "       [[203, 293]],\n",
       "\n",
       "       [[203, 291]],\n",
       "\n",
       "       [[202, 291]],\n",
       "\n",
       "       [[201, 290]],\n",
       "\n",
       "       [[200, 290]],\n",
       "\n",
       "       [[198, 288]],\n",
       "\n",
       "       [[197, 289]],\n",
       "\n",
       "       [[196, 289]],\n",
       "\n",
       "       [[195, 288]]], dtype=int32)"
      ]
     },
     "execution_count": 17,
     "metadata": {},
     "output_type": "execute_result"
    }
   ],
   "source": [
    "coordinates[0]"
   ]
  },
  {
   "cell_type": "code",
   "execution_count": 18,
   "metadata": {},
   "outputs": [
    {
     "data": {
      "text/plain": [
       "array([[194, 288]], dtype=int32)"
      ]
     },
     "execution_count": 18,
     "metadata": {},
     "output_type": "execute_result"
    }
   ],
   "source": [
    "coordinates[0][0]"
   ]
  },
  {
   "cell_type": "code",
   "execution_count": 19,
   "metadata": {},
   "outputs": [
    {
     "data": {
      "text/plain": [
       "array([[194, 291]], dtype=int32)"
      ]
     },
     "execution_count": 19,
     "metadata": {},
     "output_type": "execute_result"
    }
   ],
   "source": [
    "coordinates[0][1]"
   ]
  },
  {
   "cell_type": "code",
   "execution_count": 21,
   "metadata": {},
   "outputs": [],
   "source": [
    "new_coordinates = []\n",
    "for i in coordinates[0]:\n",
    "    new_coordinates.append(i[0])"
   ]
  },
  {
   "cell_type": "code",
   "execution_count": 22,
   "metadata": {},
   "outputs": [
    {
     "data": {
      "text/plain": [
       "[array([194, 288], dtype=int32),\n",
       " array([194, 291], dtype=int32),\n",
       " array([196, 293], dtype=int32),\n",
       " array([194, 295], dtype=int32),\n",
       " array([194, 296], dtype=int32),\n",
       " array([195, 297], dtype=int32),\n",
       " array([196, 296], dtype=int32),\n",
       " array([199, 296], dtype=int32),\n",
       " array([199, 295], dtype=int32),\n",
       " array([201, 293], dtype=int32),\n",
       " array([203, 293], dtype=int32),\n",
       " array([203, 291], dtype=int32),\n",
       " array([202, 291], dtype=int32),\n",
       " array([201, 290], dtype=int32),\n",
       " array([200, 290], dtype=int32),\n",
       " array([198, 288], dtype=int32),\n",
       " array([197, 289], dtype=int32),\n",
       " array([196, 289], dtype=int32),\n",
       " array([195, 288], dtype=int32)]"
      ]
     },
     "execution_count": 22,
     "metadata": {},
     "output_type": "execute_result"
    }
   ],
   "source": [
    "new_coordinates"
   ]
  },
  {
   "cell_type": "code",
   "execution_count": 23,
   "metadata": {},
   "outputs": [],
   "source": [
    "x_values = []\n",
    "y_values = []\n",
    "\n",
    "for point in new_coordinates:\n",
    "    x_values.append(point[0])\n",
    "    y_values.append(point[1])"
   ]
  },
  {
   "cell_type": "code",
   "execution_count": 24,
   "metadata": {},
   "outputs": [],
   "source": [
    "import matplotlib.pyplot as plt"
   ]
  },
  {
   "cell_type": "code",
   "execution_count": 25,
   "metadata": {},
   "outputs": [
    {
     "data": {
      "text/plain": [
       "[<matplotlib.lines.Line2D at 0x1ff2fd29d20>]"
      ]
     },
     "execution_count": 25,
     "metadata": {},
     "output_type": "execute_result"
    },
    {
     "data": {
      "image/png": "[encoded data removed]",
      "text/plain": [
       "<Figure size 432x288 with 1 Axes>"
      ]
     },
     "metadata": {
      "needs_background": "light"
     },
     "output_type": "display_data"
    }
   ],
   "source": [
    "plt.plot(x_values, y_values)"
   ]
  }
 ],
 "metadata": {
  "kernelspec": {
   "display_name": "Python 3",
   "language": "python",
   "name": "python3"
  },
  "language_info": {
   "codemirror_mode": {
    "name": "ipython",
    "version": 3
   },
   "file_extension": ".py",
   "mimetype": "text/x-python",
   "name": "python",
   "nbconvert_exporter": "python",
   "pygments_lexer": "ipython3",
   "version": "3.10.9"
  },
  "orig_nbformat": 4,
  "vscode": {
   "interpreter": {
    "hash": "afb734500600fd355917ca529030176ea0ca205570884b88f2f6f7d791fd3fbe"
   }
  }
 },
 "nbformat": 4,
 "nbformat_minor": 2
}
