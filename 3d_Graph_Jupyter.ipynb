{
 "cells": [
  {
   "cell_type": "code",
   "execution_count": 1,
   "metadata": {},
   "outputs": [],
   "source": [
    "import pandas as pd\n",
    "import matplotlib.pyplot as plt\n",
    "import numpy as np"
   ]
  },
  {
   "cell_type": "code",
   "execution_count": 2,
   "metadata": {},
   "outputs": [],
   "source": [
    "df = pd.read_csv(\"sorted_data\\colony_6_data_vid_1.csv\")"
   ]
  },
  {
   "cell_type": "code",
   "execution_count": 3,
   "metadata": {},
   "outputs": [
    {
     "data": {
      "text/html": [
       "<div>\n",
       "<style scoped>\n",
       "    .dataframe tbody tr th:only-of-type {\n",
       "        vertical-align: middle;\n",
       "    }\n",
       "\n",
       "    .dataframe tbody tr th {\n",
       "        vertical-align: top;\n",
       "    }\n",
       "\n",
       "    .dataframe thead th {\n",
       "        text-align: right;\n",
       "    }\n",
       "</style>\n",
       "<table border=\"1\" class=\"dataframe\">\n",
       "  <thead>\n",
       "    <tr style=\"text-align: right;\">\n",
       "      <th></th>\n",
       "      <th>Unnamed: 0</th>\n",
       "      <th>ant</th>\n",
       "      <th>frame</th>\n",
       "      <th>video</th>\n",
       "      <th>colony</th>\n",
       "      <th>date</th>\n",
       "      <th>t</th>\n",
       "      <th>x</th>\n",
       "      <th>y</th>\n",
       "    </tr>\n",
       "  </thead>\n",
       "  <tbody>\n",
       "    <tr>\n",
       "      <th>0</th>\n",
       "      <td>1002859</td>\n",
       "      <td>14</td>\n",
       "      <td>40330</td>\n",
       "      <td>1</td>\n",
       "      <td>6</td>\n",
       "      <td>1/15/17</td>\n",
       "      <td>19:48:26</td>\n",
       "      <td>288</td>\n",
       "      <td>816</td>\n",
       "    </tr>\n",
       "    <tr>\n",
       "      <th>1</th>\n",
       "      <td>1002860</td>\n",
       "      <td>14</td>\n",
       "      <td>40331</td>\n",
       "      <td>1</td>\n",
       "      <td>6</td>\n",
       "      <td>1/15/17</td>\n",
       "      <td>19:48:26</td>\n",
       "      <td>292</td>\n",
       "      <td>832</td>\n",
       "    </tr>\n",
       "    <tr>\n",
       "      <th>2</th>\n",
       "      <td>1002861</td>\n",
       "      <td>14</td>\n",
       "      <td>40332</td>\n",
       "      <td>1</td>\n",
       "      <td>6</td>\n",
       "      <td>1/15/17</td>\n",
       "      <td>19:48:26</td>\n",
       "      <td>320</td>\n",
       "      <td>832</td>\n",
       "    </tr>\n",
       "    <tr>\n",
       "      <th>3</th>\n",
       "      <td>1002862</td>\n",
       "      <td>14</td>\n",
       "      <td>40333</td>\n",
       "      <td>1</td>\n",
       "      <td>6</td>\n",
       "      <td>1/15/17</td>\n",
       "      <td>19:48:26</td>\n",
       "      <td>344</td>\n",
       "      <td>828</td>\n",
       "    </tr>\n",
       "    <tr>\n",
       "      <th>4</th>\n",
       "      <td>1002863</td>\n",
       "      <td>14</td>\n",
       "      <td>40334</td>\n",
       "      <td>1</td>\n",
       "      <td>6</td>\n",
       "      <td>1/15/17</td>\n",
       "      <td>19:48:26</td>\n",
       "      <td>356</td>\n",
       "      <td>828</td>\n",
       "    </tr>\n",
       "    <tr>\n",
       "      <th>...</th>\n",
       "      <td>...</td>\n",
       "      <td>...</td>\n",
       "      <td>...</td>\n",
       "      <td>...</td>\n",
       "      <td>...</td>\n",
       "      <td>...</td>\n",
       "      <td>...</td>\n",
       "      <td>...</td>\n",
       "      <td>...</td>\n",
       "    </tr>\n",
       "    <tr>\n",
       "      <th>547</th>\n",
       "      <td>1003406</td>\n",
       "      <td>20</td>\n",
       "      <td>46163</td>\n",
       "      <td>1</td>\n",
       "      <td>6</td>\n",
       "      <td>1/15/17</td>\n",
       "      <td>19:51:41</td>\n",
       "      <td>1044</td>\n",
       "      <td>232</td>\n",
       "    </tr>\n",
       "    <tr>\n",
       "      <th>548</th>\n",
       "      <td>1003407</td>\n",
       "      <td>20</td>\n",
       "      <td>46164</td>\n",
       "      <td>1</td>\n",
       "      <td>6</td>\n",
       "      <td>1/15/17</td>\n",
       "      <td>19:51:41</td>\n",
       "      <td>1044</td>\n",
       "      <td>232</td>\n",
       "    </tr>\n",
       "    <tr>\n",
       "      <th>549</th>\n",
       "      <td>1003408</td>\n",
       "      <td>20</td>\n",
       "      <td>46165</td>\n",
       "      <td>1</td>\n",
       "      <td>6</td>\n",
       "      <td>1/15/17</td>\n",
       "      <td>19:51:41</td>\n",
       "      <td>1044</td>\n",
       "      <td>236</td>\n",
       "    </tr>\n",
       "    <tr>\n",
       "      <th>550</th>\n",
       "      <td>1003409</td>\n",
       "      <td>20</td>\n",
       "      <td>46166</td>\n",
       "      <td>1</td>\n",
       "      <td>6</td>\n",
       "      <td>1/15/17</td>\n",
       "      <td>19:51:41</td>\n",
       "      <td>1036</td>\n",
       "      <td>236</td>\n",
       "    </tr>\n",
       "    <tr>\n",
       "      <th>551</th>\n",
       "      <td>1003410</td>\n",
       "      <td>20</td>\n",
       "      <td>46167</td>\n",
       "      <td>1</td>\n",
       "      <td>6</td>\n",
       "      <td>1/15/17</td>\n",
       "      <td>19:51:41</td>\n",
       "      <td>1028</td>\n",
       "      <td>244</td>\n",
       "    </tr>\n",
       "  </tbody>\n",
       "</table>\n",
       "<p>552 rows × 9 columns</p>\n",
       "</div>"
      ],
      "text/plain": [
       "     Unnamed: 0  ant  frame  video  colony     date         t     x    y\n",
       "0       1002859   14  40330      1       6  1/15/17  19:48:26   288  816\n",
       "1       1002860   14  40331      1       6  1/15/17  19:48:26   292  832\n",
       "2       1002861   14  40332      1       6  1/15/17  19:48:26   320  832\n",
       "3       1002862   14  40333      1       6  1/15/17  19:48:26   344  828\n",
       "4       1002863   14  40334      1       6  1/15/17  19:48:26   356  828\n",
       "..          ...  ...    ...    ...     ...      ...       ...   ...  ...\n",
       "547     1003406   20  46163      1       6  1/15/17  19:51:41  1044  232\n",
       "548     1003407   20  46164      1       6  1/15/17  19:51:41  1044  232\n",
       "549     1003408   20  46165      1       6  1/15/17  19:51:41  1044  236\n",
       "550     1003409   20  46166      1       6  1/15/17  19:51:41  1036  236\n",
       "551     1003410   20  46167      1       6  1/15/17  19:51:41  1028  244\n",
       "\n",
       "[552 rows x 9 columns]"
      ]
     },
     "execution_count": 3,
     "metadata": {},
     "output_type": "execute_result"
    }
   ],
   "source": [
    "df"
   ]
  },
  {
   "cell_type": "code",
   "execution_count": 4,
   "metadata": {},
   "outputs": [
    {
     "data": {
      "image/png": "[encoded data removed]",
      "text/plain": [
       "<Figure size 432x288 with 1 Axes>"
      ]
     },
     "metadata": {
      "needs_background": "light"
     },
     "output_type": "display_data"
    }
   ],
   "source": [
    "ax = plt.axes(projection = \"3d\")\n",
    "x = df[\"x\"]\n",
    "y = df[\"y\"]\n",
    "z = np.linspace(0,50,552)\n",
    "ax.plot(x,y,z)\n",
    "plt.show()"
   ]
  },
  {
   "cell_type": "code",
   "execution_count": 7,
   "metadata": {},
   "outputs": [
    {
     "data": {
      "text/plain": [
       "array([14, 15, 19, 20], dtype=int64)"
      ]
     },
     "execution_count": 7,
     "metadata": {},
     "output_type": "execute_result"
    }
   ],
   "source": [
    "df[\"ant\"].unique()"
   ]
  }
 ],
 "metadata": {
  "kernelspec": {
   "display_name": "Python 3",
   "language": "python",
   "name": "python3"
  },
  "language_info": {
   "codemirror_mode": {
    "name": "ipython",
    "version": 3
   },
   "file_extension": ".py",
   "mimetype": "text/x-python",
   "name": "python",
   "nbconvert_exporter": "python",
   "pygments_lexer": "ipython3",
   "version": "3.10.9"
  },
  "orig_nbformat": 4
 },
 "nbformat": 4,
 "nbformat_minor": 2
}
