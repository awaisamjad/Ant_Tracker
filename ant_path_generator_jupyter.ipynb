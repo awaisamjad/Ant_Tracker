{
 "cells": [
  {
   "cell_type": "code",
   "execution_count": 2,
   "metadata": {},
   "outputs": [
    {
     "name": "stdout",
     "output_type": "stream",
     "text": [
      "pygame 2.2.0 (SDL 2.0.22, Python 3.10.9)\n",
      "Hello from the pygame community. https://www.pygame.org/contribute.html\n"
     ]
    }
   ],
   "source": [
    "import pandas as pd\n",
    "import pygame\n"
   ]
  },
  {
   "cell_type": "code",
   "execution_count": 3,
   "metadata": {},
   "outputs": [],
   "source": [
    "df = pd.read_csv(\"sorted_data\\colony_6_data_vid_1.csv\")"
   ]
  },
  {
   "cell_type": "code",
   "execution_count": 13,
   "metadata": {},
   "outputs": [],
   "source": [
    "ant = df[\"ant\"]\n",
    "x_c = df[\"x\"]\n",
    "y_c = df[\"y\"]"
   ]
  },
  {
   "cell_type": "code",
   "execution_count": 7,
   "metadata": {},
   "outputs": [
    {
     "data": {
      "text/plain": [
       "0       288\n",
       "1       292\n",
       "2       320\n",
       "3       344\n",
       "4       356\n",
       "       ... \n",
       "125    1508\n",
       "126    1524\n",
       "127    1544\n",
       "128    1564\n",
       "129    1572\n",
       "Name: x, Length: 130, dtype: int64"
      ]
     },
     "execution_count": 7,
     "metadata": {},
     "output_type": "execute_result"
    }
   ],
   "source": [
    "df[df[\"ant\"] == 14][\"x\"]"
   ]
  },
  {
   "cell_type": "code",
   "execution_count": 3,
   "metadata": {},
   "outputs": [
    {
     "ename": "SystemExit",
     "evalue": "",
     "output_type": "error",
     "traceback": [
      "An exception has occurred, use %tb to see the full traceback.\n",
      "\u001b[1;31mSystemExit\u001b[0m\n"
     ]
    }
   ],
   "source": [
    "import pygame\n",
    "import sys\n",
    "# Define your data here\n",
    "x = [100, 200, 300, 400, 500, 600]\n",
    "y = [100, 200, 300, 400, 500, 600]\n",
    "ant_number = [1, 1, 2, 2, 3, 3]\n",
    "\n",
    "# Initialize pygame\n",
    "pygame.init()\n",
    "screen = pygame.display.set_mode((700, 700))\n",
    "\n",
    "# Draw the paths\n",
    "current_ant = 0\n",
    "time_delay = 1000 # in milliseconds\n",
    "for i in range(len(x)-1):\n",
    "    if ant_number[i] != current_ant:\n",
    "        current_ant = ant_number[i]\n",
    "    pygame.draw.line(screen, (255,0,0), (x[i], y[i]), (x[i+1], y[i+1]), 2)\n",
    "    pygame.display.update()\n",
    "    pygame.time.wait(time_delay)\n",
    "\n",
    "# Main game loop\n",
    "while True:\n",
    "    for event in pygame.event.get():\n",
    "        if event.type == pygame.QUIT:\n",
    "            pygame.quit()\n",
    "            sys.exit()\n",
    "    pygame.display.flip()"
   ]
  },
  {
   "cell_type": "code",
   "execution_count": 17,
   "metadata": {},
   "outputs": [],
   "source": [
    "x_c = list(x_c)\n",
    "y_c = list(y_c)\n",
    "ant = list(ant)"
   ]
  },
  {
   "cell_type": "code",
   "execution_count": 20,
   "metadata": {},
   "outputs": [
    {
     "data": {
      "text/plain": [
       "552"
      ]
     },
     "execution_count": 20,
     "metadata": {},
     "output_type": "execute_result"
    }
   ],
   "source": [
    "len(ant)"
   ]
  },
  {
   "cell_type": "code",
   "execution_count": 23,
   "metadata": {},
   "outputs": [
    {
     "name": "stdout",
     "output_type": "stream",
     "text": [
      "(10, 6)\n",
      "(20, 23)\n",
      "(33, 63)\n",
      "(45, 85)\n",
      "(65, 35)\n",
      "(78, 108)\n",
      "(90, 80)\n",
      "(102, 122)\n"
     ]
    },
    {
     "ename": "error",
     "evalue": "video system not initialized",
     "output_type": "error",
     "traceback": [
      "\u001b[1;31m---------------------------------------------------------------------------\u001b[0m",
      "\u001b[1;31merror\u001b[0m                                     Traceback (most recent call last)",
      "\u001b[1;32mc:\\Users\\User\\OneDrive - Queen Mary, University of London\\Year 2\\Semester 2\\Creative Group Project\\Ant_Tracker\\ant_path_generator_python.ipynb Cell 7\u001b[0m in \u001b[0;36m<module>\u001b[1;34m\u001b[0m\n\u001b[0;32m     <a href='vscode-notebook-cell:/c%3A/Users/User/OneDrive%20-%20Queen%20Mary%2C%20University%20of%20London/Year%202/Semester%202/Creative%20Group%20Project/Ant_Tracker/ant_path_generator_python.ipynb#W5sZmlsZQ%3D%3D?line=32'>33</a>\u001b[0m         pygame\u001b[39m.\u001b[39mquit()\n\u001b[0;32m     <a href='vscode-notebook-cell:/c%3A/Users/User/OneDrive%20-%20Queen%20Mary%2C%20University%20of%20London/Year%202/Semester%202/Creative%20Group%20Project/Ant_Tracker/ant_path_generator_python.ipynb#W5sZmlsZQ%3D%3D?line=33'>34</a>\u001b[0m         \u001b[39m#sys.exit()\u001b[39;00m\n\u001b[1;32m---> <a href='vscode-notebook-cell:/c%3A/Users/User/OneDrive%20-%20Queen%20Mary%2C%20University%20of%20London/Year%202/Semester%202/Creative%20Group%20Project/Ant_Tracker/ant_path_generator_python.ipynb#W5sZmlsZQ%3D%3D?line=34'>35</a>\u001b[0m pygame\u001b[39m.\u001b[39;49mdisplay\u001b[39m.\u001b[39;49mflip()\n",
      "\u001b[1;31merror\u001b[0m: video system not initialized"
     ]
    }
   ],
   "source": [
    "x = [100, 200, 300, 400, 500, 600]\n",
    "y = [100, 200, 300, 400, 500, 600]\n",
    "ant_number = [1, 1, 2, 2, 3, 3]\n",
    "\n",
    "xc1 = [10,20,33,45,65,78,90,102]\n",
    "yc1 = [14,23,37,65,69,38,50,87]\n",
    "\n",
    "xc2 = [6,23,63,85,35,108,80,122]\n",
    "yc2 = [14,23,37,65,69,38,50,87]\n",
    "\n",
    "for i in list(zip(xc1, xc2)):\n",
    "    print(i)\n",
    "\n",
    "pygame.init()\n",
    "screen = pygame.display.set_mode((1900, 900))\n",
    "\n",
    "# Draw the paths\n",
    "current_ant = 0\n",
    "time_delay = 1000 # in milliseconds\n",
    "for i in range(len(x)-1):\n",
    "    if ant_number[i] != current_ant:\n",
    "        current_ant = ant_number[i]\n",
    "    pygame.draw.line(screen, (255,0,0), (x[i], y[i]), (x[i+1], y[i+1]), 2)\n",
    "    pygame.draw.line(screen, (255,0,0), (xc1[i], yc1[i]), (xc1[i+1], yc1[i+1]), 2)\n",
    "    pygame.draw.line(screen, (255,0,0), (x_c[i], y_c[i]), (x_c[i+1], y_c[i+1]), 2)\n",
    "    pygame.display.update()\n",
    "    pygame.time.wait(time_delay)\n",
    "\n",
    "# Main game loop\n",
    "while True:\n",
    "    for event in pygame.event.get():\n",
    "        if event.type == pygame.QUIT:\n",
    "            pygame.quit()\n",
    "            #sys.exit()\n",
    "    pygame.display.flip()\n"
   ]
  }
 ],
 "metadata": {
  "kernelspec": {
   "display_name": "Python 3",
   "language": "python",
   "name": "python3"
  },
  "language_info": {
   "codemirror_mode": {
    "name": "ipython",
    "version": 3
   },
   "file_extension": ".py",
   "mimetype": "text/x-python",
   "name": "python",
   "nbconvert_exporter": "python",
   "pygments_lexer": "ipython3",
   "version": "3.10.9"
  },
  "orig_nbformat": 4
 },
 "nbformat": 4,
 "nbformat_minor": 2
}
